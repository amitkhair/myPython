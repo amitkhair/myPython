{
 "cells": [
  {
   "cell_type": "code",
   "execution_count": 26,
   "id": "26f38d3b",
   "metadata": {},
   "outputs": [
    {
     "name": "stdout",
     "output_type": "stream",
     "text": [
      "Hello Nathan Hello Lalit\n",
      "0.01 5\n",
      "Hello Nathan , Lalit\n",
      "Hello Purvi , Hunar\n"
     ]
    }
   ],
   "source": [
    "print (\"Hello Nathan\",\"Hello Lalit\")\n",
    "greet1 =\"0.01\"\n",
    "greet2 =(\"5\")\n",
    "name1 =\"Nathan\"\n",
    "name2 =\"Lalit\"\n",
    "print (greet1,greet2)\n",
    "print (\"Hello\",name1,\",\",name2)\n",
    "name1 = \"Purvi\"\n",
    "name2 = \"Hunar\"\n",
    "print (\"Hello\", name1, \",\", name2)\n"
   ]
  },
  {
   "cell_type": "code",
   "execution_count": null,
   "id": "55044016",
   "metadata": {},
   "outputs": [],
   "source": []
  },
  {
   "cell_type": "code",
   "execution_count": 27,
   "id": "1aed86ff",
   "metadata": {},
   "outputs": [
    {
     "data": {
      "text/plain": [
       "str"
      ]
     },
     "execution_count": 27,
     "metadata": {},
     "output_type": "execute_result"
    }
   ],
   "source": [
    "type(\"greet1,greet2\")"
   ]
  },
  {
   "cell_type": "code",
   "execution_count": null,
   "id": "81038383",
   "metadata": {},
   "outputs": [],
   "source": []
  }
 ],
 "metadata": {
  "kernelspec": {
   "display_name": "Python 3 (ipykernel)",
   "language": "python",
   "name": "python3"
  },
  "language_info": {
   "codemirror_mode": {
    "name": "ipython",
    "version": 3
   },
   "file_extension": ".py",
   "mimetype": "text/x-python",
   "name": "python",
   "nbconvert_exporter": "python",
   "pygments_lexer": "ipython3",
   "version": "3.11.3"
  }
 },
 "nbformat": 4,
 "nbformat_minor": 5
}
